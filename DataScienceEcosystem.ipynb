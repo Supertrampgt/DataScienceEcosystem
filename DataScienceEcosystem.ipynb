{
 "cells": [
  {
   "cell_type": "markdown",
   "id": "34a6a6c7-1bf0-46d6-8bbd-d4a7cb48bbe5",
   "metadata": {},
   "source": [
    "# Data Science Tools and Ecosystem"
   ]
  },
  {
   "cell_type": "markdown",
   "id": "5bce7514-d3c3-4889-b2ae-dbbad8fd5869",
   "metadata": {},
   "source": [
    "En este cuaderno, se resumen las herramientas y ecosistemas de ciencia de datos"
   ]
  },
  {
   "cell_type": "markdown",
   "id": "3d079b0c-09a1-4e61-ad3f-46fd7a335f36",
   "metadata": {},
   "source": [
    "**Objetivos:**\n",
    "\n",
    "- Listar lenguajes para ciencia de datos\n",
    "- Aprender a usar markdown\n",
    "- Elaborar las primeras notebooks en Jupyter"
   ]
  },
  {
   "cell_type": "markdown",
   "id": "541260b7-d7f3-48d8-9e3c-73d71fd5a0cc",
   "metadata": {},
   "source": [
    "Algunos de los lenguajes populares que utilizan los científicos de datos son:\n",
    "\n",
    "1. Python\n",
    "2. RStudio\n",
    "3. Watson Studio\n",
    "4. Apache AirFlow"
   ]
  },
  {
   "cell_type": "markdown",
   "id": "6609ebe1-f21f-4998-9634-7e12cb3dc87f",
   "metadata": {},
   "source": [
    "Algunas de las bibliotecas comúnmente utilizadas por los científicos de datos incluyen:\n",
    "\n",
    "1. Scikit-learn\n",
    "2. TensorFLow\n",
    "3. Keras"
   ]
  },
  {
   "cell_type": "markdown",
   "id": "1e6e5309-d22a-4055-97c6-f5ac9785c5e9",
   "metadata": {},
   "source": [
    "| Herramientas de Ciencia de Datos |\n",
    "|----------------------------------|\n",
    "| Python                           |\n",
    "| R                                |\n",
    "| SQL                              |"
   ]
  },
  {
   "cell_type": "markdown",
   "id": "46d0a82f-824e-464e-8b9b-af5da484fcfc",
   "metadata": {},
   "source": [
    "### A continuación, se presentan algunos ejemplos de evaluación de expresiones aritméticas en Python"
   ]
  },
  {
   "cell_type": "code",
   "execution_count": 9,
   "id": "74d593b1-f9a5-4b8e-b232-3c7006dc20a3",
   "metadata": {},
   "outputs": [
    {
     "data": {
      "text/plain": [
       "9"
      ]
     },
     "execution_count": 9,
     "metadata": {},
     "output_type": "execute_result"
    }
   ],
   "source": [
    "4+5"
   ]
  },
  {
   "cell_type": "markdown",
   "id": "0462413f-52b5-4594-bd3b-db4b80dbfc08",
   "metadata": {},
   "source": [
    "Esta es una expresión aritmética simple para multiplicar y luego sumar enteros"
   ]
  },
  {
   "cell_type": "code",
   "execution_count": 12,
   "id": "7ff3bcd7-6a2d-4459-8618-6b44b2246251",
   "metadata": {},
   "outputs": [
    {
     "data": {
      "text/plain": [
       "17"
      ]
     },
     "execution_count": 12,
     "metadata": {},
     "output_type": "execute_result"
    }
   ],
   "source": [
    "(3*4)+5"
   ]
  },
  {
   "cell_type": "markdown",
   "id": "c3a3a6ce-e612-4517-a2de-14bc260faab9",
   "metadata": {},
   "source": [
    "Esto convertirá 200 minutos a horas dividiendo por 60"
   ]
  },
  {
   "cell_type": "code",
   "execution_count": 14,
   "id": "380790f2-3549-4bc1-ab28-27ffc9f563b9",
   "metadata": {},
   "outputs": [
    {
     "data": {
      "text/plain": [
       "3.3333333333333335"
      ]
     },
     "execution_count": 14,
     "metadata": {},
     "output_type": "execute_result"
    }
   ],
   "source": [
    "200/60"
   ]
  },
  {
   "cell_type": "markdown",
   "id": "b8cdc1a1-ef02-4623-a769-4b4651b83511",
   "metadata": {},
   "source": [
    "## Autor\n",
    "Francisco Benito Pérez F."
   ]
  }
 ],
 "metadata": {
  "kernelspec": {
   "display_name": "Python 3 (ipykernel)",
   "language": "python",
   "name": "python3"
  },
  "language_info": {
   "codemirror_mode": {
    "name": "ipython",
    "version": 3
   },
   "file_extension": ".py",
   "mimetype": "text/x-python",
   "name": "python",
   "nbconvert_exporter": "python",
   "pygments_lexer": "ipython3",
   "version": "3.9.13"
  }
 },
 "nbformat": 4,
 "nbformat_minor": 5
}
